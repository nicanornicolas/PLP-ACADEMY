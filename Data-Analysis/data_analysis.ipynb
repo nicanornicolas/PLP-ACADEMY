{
 "cells": [
  {
   "cell_type": "markdown",
   "id": "5f77dcd3-c76c-48ee-98cb-8612d7ef525a",
   "metadata": {},
   "source": [
    "## THIS NOTEBOOK AIMS TO SHOWCASE DATA ANALYSIS TECHNIQUES USING PANDAS LIBRARY ##\n",
    "## DATA VISUALIZATION TECHNIQUES WITH SEABORN AND MATPLOTLIB ##"
   ]
  },
  {
   "cell_type": "markdown",
   "id": "87a5feab-a849-43da-b857-e2ca05f043c3",
   "metadata": {},
   "source": [
    "# WE INSTALL THE NECESSARY LIBRARIES. ##"
   ]
  },
  {
   "cell_type": "code",
   "execution_count": null,
   "id": "372f878e-3cfb-4182-a1fc-ba6cc6c88a7d",
   "metadata": {},
   "outputs": [
    {
     "name": "stdout",
     "output_type": "stream",
     "text": [
      "Defaulting to user installation because normal site-packages is not writeable\n"
     ]
    },
    {
     "name": "stderr",
     "output_type": "stream",
     "text": [
      "WARNING: Retrying (Retry(total=4, connect=None, read=None, redirect=None, status=None)) after connection broken by 'NewConnectionError('<pip._vendor.urllib3.connection.HTTPSConnection object at 0x0000019D6401DFD0>: Failed to establish a new connection: [Errno 11001] getaddrinfo failed')': /simple/matplotlib/\n",
      "ERROR: Could not find a version that satisfies the requirement matplotlib (from versions: none)\n",
      "ERROR: No matching distribution found for matplotlib\n"
     ]
    },
    {
     "name": "stdout",
     "output_type": "stream",
     "text": [
      "Defaulting to user installation because normal site-packages is not writeable\n",
      "Requirement already satisfied: pandas in c:\\users\\nican\\appdata\\roaming\\python\\python313\\site-packages (2.3.0)\n",
      "Requirement already satisfied: numpy>=1.26.0 in c:\\users\\nican\\appdata\\roaming\\python\\python313\\site-packages (from pandas) (2.3.0)\n",
      "Requirement already satisfied: python-dateutil>=2.8.2 in c:\\users\\nican\\appdata\\roaming\\python\\python313\\site-packages (from pandas) (2.9.0.post0)\n",
      "Requirement already satisfied: pytz>=2020.1 in c:\\users\\nican\\appdata\\roaming\\python\\python313\\site-packages (from pandas) (2025.2)\n",
      "Requirement already satisfied: tzdata>=2022.7 in c:\\users\\nican\\appdata\\roaming\\python\\python313\\site-packages (from pandas) (2025.2)\n",
      "Requirement already satisfied: six>=1.5 in c:\\users\\nican\\appdata\\roaming\\python\\python313\\site-packages (from python-dateutil>=2.8.2->pandas) (1.17.0)\n"
     ]
    }
   ],
   "source": [
    "!pip install matplotlib\n",
    "!pip install pandas\n",
    "!pip install seaborn"
   ]
  },
  {
   "cell_type": "code",
   "execution_count": null,
   "id": "c74552c6-55df-448f-88b0-e2119926f88b",
   "metadata": {},
   "outputs": [],
   "source": [
    "# import the necessary libraries\n",
    "import pandas as pd\n",
    "import matplotlib.pyplot as plt\n",
    "import seaborn as sns"
   ]
  },
  {
   "cell_type": "markdown",
   "id": "534bb0d0-c2bb-4e34-be6b-62a44f429440",
   "metadata": {},
   "source": [
    "# LOAD YOUR DATA INTO THE ENVIRONMENT #"
   ]
  },
  {
   "cell_type": "code",
   "execution_count": null,
   "id": "7511819e-8886-4bad-b11a-3963d2a04593",
   "metadata": {},
   "outputs": [],
   "source": [
    "# Run this cell to use the local data\n",
    "def create_sample_csv(filepath=\"sales_data.csv\"):\n",
    "    \"\"\"Create a sample csv to use for this script.\"\"\"\n",
    "    csv_data=\"\"\"Date, Product, Quantity Sold, Revenue($)\n",
    "    2025-03-01,Laptop,5,5000\n",
    "2025-03-01,Mouse,15,300\n",
    "2025-03-02,Laptop,3,3000\n",
    "2025-03-02,Keyboard,8,800\n",
    "2025-03-03,Mouse,12,240\n",
    "2025-03-03,Monitor,4,1200\n",
    "2025-03-04,Laptop,7,7000\n",
    "2025-03-04,Keyboard,10,1000\n",
    "    \"\"\"\n",
    "    with open(filepath, \"w\") as f:\n",
    "        f.write(csv_data)"
   ]
  },
  {
   "cell_type": "code",
   "execution_count": null,
   "id": "026fe6fd-451c-4361-a3f5-9ed3f73d972e",
   "metadata": {},
   "outputs": [],
   "source": [
    "# loading and cleaning the csv file into a DataFrame\n",
    "def load_and_prepare_data(filepath):\n",
    "    \"\"\"\n",
    "    Loads a csv file into a pandas DataFrame and perform cleaning.\n",
    "    Args:\n",
    "        filepath (str): The path to the CSV file.\n",
    "    Returns:\n",
    "        pandas.DataFrame. The prepared data, or None if file not found.\n",
    "    \"\"\"\n",
    "    try:\n",
    "        df = pd.read_csv(filepath)\n",
    "        # convert the ['Date'] column to datetime objects for proper calculation\n",
    "        df['Date'] = pd.to_datetime(df['Date'])\n",
    "        # Rename column for easier access (no special characters or spaces)\n",
    "        return df\n",
    "    except:\n",
    "        print(f\" Error file not found at {filepath}.\")\n",
    "        return None"
   ]
  },
  {
   "cell_type": "code",
   "execution_count": null,
   "id": "1c3fb826-be98-4aec-a6ec-0d248d986de5",
   "metadata": {},
   "outputs": [],
   "source": [
    "# perform checks on the loaded dataset\n",
    "df.head()\n"
   ]
  },
  {
   "cell_type": "code",
   "execution_count": null,
   "id": "a9bee23b-af20-4388-8d15-73a35d8a844e",
   "metadata": {},
   "outputs": [],
   "source": []
  }
 ],
 "metadata": {
  "kernelspec": {
   "display_name": "Python 3 (ipykernel)",
   "language": "python",
   "name": "python3"
  },
  "language_info": {
   "codemirror_mode": {
    "name": "ipython",
    "version": 3
   },
   "file_extension": ".py",
   "mimetype": "text/x-python",
   "name": "python",
   "nbconvert_exporter": "python",
   "pygments_lexer": "ipython3",
   "version": "3.13.3"
  }
 },
 "nbformat": 4,
 "nbformat_minor": 5
}
